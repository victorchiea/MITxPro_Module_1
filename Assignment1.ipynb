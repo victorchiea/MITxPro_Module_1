pip install numpy
pip install matplotlib
import numpy as np
import matplotlib.pyplot as plt

# Data points
X = np.array([1, -2, 3, 4.5, 0, -4, -1, 4, -1])
Y = np.array([4, 3, 6, 8, 2, -3, -2, 7, 2.5])

# Number of data points
m = len(X)

# Add a column of ones to X
X_b = np.c_[np.ones((m, 1)), X]  # X_b is the design matrix

# Compute the normal equation
theta_best = np.linalg.inv(X_b.T.dot(X_b)).dot(X_b.T).dot(Y)

# Extract parameters
theta_0, theta_1 = theta_best
print(f"Intercept (theta_0): {theta_0}")
print(f"Slope (theta_1): {theta_1}")

# Fitted line
x_vals = np.linspace(min(X)-1, max(X)+1, 100)
y_vals = theta_0 + theta_1 * x_vals

# Plot
plt.scatter(X, Y, color='red', label='Data points')
plt.plot(x_vals, y_vals, color='blue', label='Fitted line')
plt.xlabel('X')
plt.ylabel('Y')
plt.title('Linear Regression Fit')
plt.legend()
plt.show()
